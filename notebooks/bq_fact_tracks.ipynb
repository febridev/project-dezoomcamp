{
 "cells": [
  {
   "cell_type": "code",
   "execution_count": 49,
   "metadata": {},
   "outputs": [],
   "source": [
    "import pyspark\n",
    "from pyspark.sql import SparkSession\n",
    "import pyspark.sql.functions as f\n",
    "from pyspark.conf import SparkConf\n",
    "from pyspark.context import SparkContext\n",
    "from pyspark.sql import types"
   ]
  },
  {
   "cell_type": "code",
   "execution_count": 2,
   "metadata": {},
   "outputs": [
    {
     "name": "stderr",
     "output_type": "stream",
     "text": [
      "22/05/15 02:58:48 WARN Utils: Your hostname, sparkdev resolves to a loopback address: 127.0.1.1; using 10.0.2.23 instead (on interface enp0s3)\n",
      "22/05/15 02:58:48 WARN Utils: Set SPARK_LOCAL_IP if you need to bind to another address\n",
      "WARNING: An illegal reflective access operation has occurred\n",
      "WARNING: Illegal reflective access by org.apache.spark.unsafe.Platform (file:/home/febridev/spark/spark-3.0.3-bin-hadoop3.2/jars/spark-unsafe_2.12-3.0.3.jar) to constructor java.nio.DirectByteBuffer(long,int)\n",
      "WARNING: Please consider reporting this to the maintainers of org.apache.spark.unsafe.Platform\n",
      "WARNING: Use --illegal-access=warn to enable warnings of further illegal reflective access operations\n",
      "WARNING: All illegal access operations will be denied in a future release\n",
      "22/05/15 02:58:50 WARN NativeCodeLoader: Unable to load native-hadoop library for your platform... using builtin-java classes where applicable\n",
      "Using Spark's default log4j profile: org/apache/spark/log4j-defaults.properties\n",
      "Setting default log level to \"WARN\".\n",
      "To adjust logging level use sc.setLogLevel(newLevel). For SparkR, use setLogLevel(newLevel).\n"
     ]
    }
   ],
   "source": [
    "spark = SparkSession.builder \\\n",
    "    .master(\"local[*]\") \\\n",
    "    .appName('test') \\\n",
    "    .getOrCreate()"
   ]
  },
  {
   "cell_type": "code",
   "execution_count": 57,
   "metadata": {},
   "outputs": [],
   "source": [
    "df_tracks = spark.read.option(\"header\",True).csv('/home/febridev/tracks.csv')"
   ]
  },
  {
   "cell_type": "code",
   "execution_count": 58,
   "metadata": {},
   "outputs": [],
   "source": [
    "df_tracks = df_tracks.select(\"id\",f.translate(f.col(\"id_artists\"),\"[\\\\[]\\\\'']\", \"\").alias(\"id_artists\"),\"name\",\"popularity\",\"release_date\")"
   ]
  },
  {
   "cell_type": "code",
   "execution_count": 59,
   "metadata": {},
   "outputs": [
    {
     "name": "stdout",
     "output_type": "stream",
     "text": [
      "+--------------------+--------------------+--------------------+----------+------------+\n",
      "|                  id|          id_artists|                name|popularity|release_date|\n",
      "+--------------------+--------------------+--------------------+----------+------------+\n",
      "|35iwgR4jXetI318WE...|45tIt06XoI0Iio4LB...|               Carve|         6|  1922-02-22|\n",
      "|021ht4sdgPcrDgSk7...|14jtPCOoNZwquk5wd...|Capítulo 2.16 - B...|         0|  1922-06-01|\n",
      "|07A5yehtSnoedViJA...|5LiOoJbxVSAMkBS2f...|Vivo para Querert...|         0|  1922-03-21|\n",
      "|08FmqUhxtyLTn6pAh...|5LiOoJbxVSAMkBS2f...|El Prisionero - R...|         0|  1922-03-21|\n",
      "|08y9GfoqCWfOGsKdw...|3BiJGZsyX9sJchTqc...| Lady of the Evening|         0|        1922|\n",
      "|0BRXJHRNGQ3W4v9fr...|3BiJGZsyX9sJchTqc...|           Ave Maria|         0|        1922|\n",
      "|0Dd9ImXtAtGwsmsAD...|2nuMRGzeJ5jJEKlfS...|      La Butte Rouge|         0|        1922|\n",
      "|0IA0Hju8CAgYfV1hw...|4AxgXfD7ISvJSTObq...|             La Java|         0|        1922|\n",
      "|0IgI1UCz84pYeVetn...|5nWlsH5RDgFuRAiDe...|  Old Fashioned Girl|         0|        1922|\n",
      "|0JV4iqw2lSKJaHBQZ...|5LiOoJbxVSAMkBS2f...|Martín Fierro - R...|         0|  1922-03-29|\n",
      "|0OYGe21oScKJfanLy...|14jtPCOoNZwquk5wd...|Capítulo 2.8 - Ba...|         0|  1922-06-01|\n",
      "|0PE42H6tslQuyMMiG...|14jtPCOoNZwquk5wd...|Capítulo 2.25 - B...|         0|  1922-06-01|\n",
      "|0PH9AACae1f957JAa...|45tIt06XoI0Iio4LB...|            Lazy Boi|         0|  1922-02-22|\n",
      "|0QiT0Oo5QdLXdFw6R...|4mSouLpNSEY1d7OdI...|Tu Verras Montmartre|         1|        1922|\n",
      "|0TWsNj5iSvbMTtbED...|7DIlOK9L8d0IQ7Xk8...|Elle Prend L'boul...|         0|        1922|\n",
      "|0cC9CYjLRIzwchQ42...|14jtPCOoNZwquk5wd...|Capítulo 1.23 - B...|         0|  1922-06-01|\n",
      "|0eb1PfHxT6HnXvvdU...|14jtPCOoNZwquk5wd...|Capítulo 1.18 - B...|         0|  1922-06-01|\n",
      "|0grXU6GKVNCVMJbse...|14jtPCOoNZwquk5wd...|Capítulo 1.10 - B...|         0|  1922-06-01|\n",
      "|0kCB1bDVBC8gWCFcn...|7vVR02JJYvsEAEPNH...|  Ca C'est Une Chose|         0|        1922|\n",
      "|0l3BQsVJ7F76wlN5Q...|5LiOoJbxVSAMkBS2f...|El Vendaval - Rem...|         0|  1922-03-21|\n",
      "+--------------------+--------------------+--------------------+----------+------------+\n",
      "only showing top 20 rows\n",
      "\n"
     ]
    }
   ],
   "source": [
    "df_tracks.show()"
   ]
  },
  {
   "cell_type": "code",
   "execution_count": 55,
   "metadata": {},
   "outputs": [
    {
     "name": "stdout",
     "output_type": "stream",
     "text": [
      "root\n",
      " |-- id: string (nullable = true)\n",
      " |-- id_artists: string (nullable = true)\n",
      " |-- name: string (nullable = true)\n",
      " |-- popularity: string (nullable = true)\n",
      " |-- release_date: string (nullable = true)\n",
      "\n"
     ]
    }
   ],
   "source": [
    "df_tracks.printSchema()"
   ]
  },
  {
   "cell_type": "code",
   "execution_count": 61,
   "metadata": {},
   "outputs": [
    {
     "name": "stderr",
     "output_type": "stream",
     "text": [
      "                                                                                \r"
     ]
    }
   ],
   "source": [
    "df_tracks.write.mode('overwrite').option(\"header\", \"true\").csv('/home/febridev/tracks')"
   ]
  },
  {
   "cell_type": "code",
   "execution_count": 65,
   "metadata": {},
   "outputs": [],
   "source": [
    "schema = types.StructType([\n",
    "\ttypes.StructField('id',types.StringType(),True),\n",
    "    types.StructField('id_artists',types.StringType(),True),\n",
    "\ttypes.StructField('name',types.StringType(),True),\n",
    "\ttypes.StructField('popularity',types.IntegerType(),True),\n",
    "\ttypes.StructField('release_date',types.TimestampType(),True)\n",
    "])"
   ]
  },
  {
   "cell_type": "code",
   "execution_count": 66,
   "metadata": {},
   "outputs": [
    {
     "name": "stdout",
     "output_type": "stream",
     "text": [
      "+--------------------+--------------------+--------------------+----------+-------------------+\n",
      "|                  id|          id_artists|                name|popularity|       release_date|\n",
      "+--------------------+--------------------+--------------------+----------+-------------------+\n",
      "|35iwgR4jXetI318WE...|45tIt06XoI0Iio4LB...|               Carve|         6|1922-02-22 00:00:00|\n",
      "|021ht4sdgPcrDgSk7...|14jtPCOoNZwquk5wd...|Capítulo 2.16 - B...|         0|1922-06-01 00:00:00|\n",
      "|07A5yehtSnoedViJA...|5LiOoJbxVSAMkBS2f...|Vivo para Querert...|         0|1922-03-21 00:00:00|\n",
      "|08FmqUhxtyLTn6pAh...|5LiOoJbxVSAMkBS2f...|El Prisionero - R...|         0|1922-03-21 00:00:00|\n",
      "|08y9GfoqCWfOGsKdw...|3BiJGZsyX9sJchTqc...| Lady of the Evening|         0|1922-01-01 00:00:00|\n",
      "|0BRXJHRNGQ3W4v9fr...|3BiJGZsyX9sJchTqc...|           Ave Maria|         0|1922-01-01 00:00:00|\n",
      "|0Dd9ImXtAtGwsmsAD...|2nuMRGzeJ5jJEKlfS...|      La Butte Rouge|         0|1922-01-01 00:00:00|\n",
      "|0IA0Hju8CAgYfV1hw...|4AxgXfD7ISvJSTObq...|             La Java|         0|1922-01-01 00:00:00|\n",
      "|0IgI1UCz84pYeVetn...|5nWlsH5RDgFuRAiDe...|  Old Fashioned Girl|         0|1922-01-01 00:00:00|\n",
      "|0JV4iqw2lSKJaHBQZ...|5LiOoJbxVSAMkBS2f...|Martín Fierro - R...|         0|1922-03-29 00:00:00|\n",
      "|0OYGe21oScKJfanLy...|14jtPCOoNZwquk5wd...|Capítulo 2.8 - Ba...|         0|1922-06-01 00:00:00|\n",
      "|0PE42H6tslQuyMMiG...|14jtPCOoNZwquk5wd...|Capítulo 2.25 - B...|         0|1922-06-01 00:00:00|\n",
      "|0PH9AACae1f957JAa...|45tIt06XoI0Iio4LB...|            Lazy Boi|         0|1922-02-22 00:00:00|\n",
      "|0QiT0Oo5QdLXdFw6R...|4mSouLpNSEY1d7OdI...|Tu Verras Montmartre|         1|1922-01-01 00:00:00|\n",
      "|0TWsNj5iSvbMTtbED...|7DIlOK9L8d0IQ7Xk8...|Elle Prend L'boul...|         0|1922-01-01 00:00:00|\n",
      "|0cC9CYjLRIzwchQ42...|14jtPCOoNZwquk5wd...|Capítulo 1.23 - B...|         0|1922-06-01 00:00:00|\n",
      "|0eb1PfHxT6HnXvvdU...|14jtPCOoNZwquk5wd...|Capítulo 1.18 - B...|         0|1922-06-01 00:00:00|\n",
      "|0grXU6GKVNCVMJbse...|14jtPCOoNZwquk5wd...|Capítulo 1.10 - B...|         0|1922-06-01 00:00:00|\n",
      "|0kCB1bDVBC8gWCFcn...|7vVR02JJYvsEAEPNH...|  Ca C'est Une Chose|         0|1922-01-01 00:00:00|\n",
      "|0l3BQsVJ7F76wlN5Q...|5LiOoJbxVSAMkBS2f...|El Vendaval - Rem...|         0|1922-03-21 00:00:00|\n",
      "+--------------------+--------------------+--------------------+----------+-------------------+\n",
      "only showing top 20 rows\n",
      "\n"
     ]
    }
   ],
   "source": [
    "\n",
    "df_tracks = spark.read.option(\"header\",True).schema(schema).csv('/home/febridev/tracks')\n",
    "df_tracks.show()"
   ]
  }
 ],
 "metadata": {
  "kernelspec": {
   "display_name": "Python 3 (ipykernel)",
   "language": "python",
   "name": "python3"
  },
  "language_info": {
   "codemirror_mode": {
    "name": "ipython",
    "version": 3
   },
   "file_extension": ".py",
   "mimetype": "text/x-python",
   "name": "python",
   "nbconvert_exporter": "python",
   "pygments_lexer": "ipython3",
   "version": "3.8.10"
  }
 },
 "nbformat": 4,
 "nbformat_minor": 4
}
