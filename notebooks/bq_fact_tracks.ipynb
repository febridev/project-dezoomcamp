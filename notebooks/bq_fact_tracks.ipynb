{
 "cells": [
  {
   "cell_type": "code",
   "execution_count": 49,
   "metadata": {},
   "outputs": [],
   "source": [
    "import pyspark\n",
    "from pyspark.sql import SparkSession\n",
    "import pyspark.sql.functions as f\n",
    "from pyspark.conf import SparkConf\n",
    "from pyspark.context import SparkContext\n",
    "from pyspark.sql import types"
   ]
  },
  {
   "cell_type": "code",
   "execution_count": 2,
   "metadata": {},
   "outputs": [
    {
     "name": "stderr",
     "output_type": "stream",
     "text": [
      "22/05/15 02:58:48 WARN Utils: Your hostname, sparkdev resolves to a loopback address: 127.0.1.1; using 10.0.2.23 instead (on interface enp0s3)\n",
      "22/05/15 02:58:48 WARN Utils: Set SPARK_LOCAL_IP if you need to bind to another address\n",
      "WARNING: An illegal reflective access operation has occurred\n",
      "WARNING: Illegal reflective access by org.apache.spark.unsafe.Platform (file:/home/febridev/spark/spark-3.0.3-bin-hadoop3.2/jars/spark-unsafe_2.12-3.0.3.jar) to constructor java.nio.DirectByteBuffer(long,int)\n",
      "WARNING: Please consider reporting this to the maintainers of org.apache.spark.unsafe.Platform\n",
      "WARNING: Use --illegal-access=warn to enable warnings of further illegal reflective access operations\n",
      "WARNING: All illegal access operations will be denied in a future release\n",
      "22/05/15 02:58:50 WARN NativeCodeLoader: Unable to load native-hadoop library for your platform... using builtin-java classes where applicable\n",
      "Using Spark's default log4j profile: org/apache/spark/log4j-defaults.properties\n",
      "Setting default log level to \"WARN\".\n",
      "To adjust logging level use sc.setLogLevel(newLevel). For SparkR, use setLogLevel(newLevel).\n"
     ]
    }
   ],
   "source": [
    "spark = SparkSession.builder \\\n",
    "    .master(\"local[*]\") \\\n",
    "    .appName('test') \\\n",
    "    .getOrCreate()"
   ]
  },
  {
   "cell_type": "code",
   "execution_count": 80,
   "metadata": {},
   "outputs": [],
   "source": [
    "df_tracks = spark.read.option(\"header\",True).csv('/home/febridev/tracks.csv')"
   ]
  },
  {
   "cell_type": "code",
   "execution_count": 81,
   "metadata": {},
   "outputs": [
    {
     "name": "stdout",
     "output_type": "stream",
     "text": [
      "+------------------------------------------------------------------------------+\n",
      "|id_artists                                                                    |\n",
      "+------------------------------------------------------------------------------+\n",
      "|['45tIt06XoI0Iio4LBEVpls']                                                    |\n",
      "|['14jtPCOoNZwquk5wd9DxrY']                                                    |\n",
      "|['5LiOoJbxVSAMkBS2fUm3X2']                                                    |\n",
      "|['5LiOoJbxVSAMkBS2fUm3X2']                                                    |\n",
      "|['3BiJGZsyX9sJchTqcSA7Su']                                                    |\n",
      "|['3BiJGZsyX9sJchTqcSA7Su']                                                    |\n",
      "|['2nuMRGzeJ5jJEKlfS7rZ0W']                                                    |\n",
      "|['4AxgXfD7ISvJSTObqm4aIE']                                                    |\n",
      "|['5nWlsH5RDgFuRAiDeOFVmf']                                                    |\n",
      "|['5LiOoJbxVSAMkBS2fUm3X2']                                                    |\n",
      "|['14jtPCOoNZwquk5wd9DxrY']                                                    |\n",
      "|['14jtPCOoNZwquk5wd9DxrY']                                                    |\n",
      "|['45tIt06XoI0Iio4LBEVpls']                                                    |\n",
      "|['4mSouLpNSEY1d7OdIjlFiP']                                                    |\n",
      "|['7DIlOK9L8d0IQ7Xk8aJxDW']                                                    |\n",
      "|['14jtPCOoNZwquk5wd9DxrY']                                                    |\n",
      "|['14jtPCOoNZwquk5wd9DxrY']                                                    |\n",
      "|['14jtPCOoNZwquk5wd9DxrY']                                                    |\n",
      "|['7vVR02JJYvsEAEPNHQMx0Q']                                                    |\n",
      "|['5LiOoJbxVSAMkBS2fUm3X2']                                                    |\n",
      "|['4ZACxcKyd37u9WSxCAvLP2']                                                    |\n",
      "|['14jtPCOoNZwquk5wd9DxrY']                                                    |\n",
      "|['5LiOoJbxVSAMkBS2fUm3X2']                                                    |\n",
      "|['14jtPCOoNZwquk5wd9DxrY']                                                    |\n",
      "|['14jtPCOoNZwquk5wd9DxrY']                                                    |\n",
      "|['4avV2NAdyMOjy4qqYfKNR7']                                                    |\n",
      "|['28pbIiOohRRZjqpAM9iqYM']                                                    |\n",
      "|['5LiOoJbxVSAMkBS2fUm3X2']                                                    |\n",
      "|['2kBMqLbeN3STYqwPqJW45j']                                                    |\n",
      "|['6NyLf1mINBZQcR8gWeE5kC']                                                    |\n",
      "|['2kBMqLbeN3STYqwPqJW45j']                                                    |\n",
      "|['5LiOoJbxVSAMkBS2fUm3X2']                                                    |\n",
      "|['3BiJGZsyX9sJchTqcSA7Su']                                                    |\n",
      "|['5LiOoJbxVSAMkBS2fUm3X2']                                                    |\n",
      "|['5LiOoJbxVSAMkBS2fUm3X2']                                                    |\n",
      "|['14jtPCOoNZwquk5wd9DxrY']                                                    |\n",
      "|['3BiJGZsyX9sJchTqcSA7Su', '58wzyK6DupVsypvs3QV2Fo', '6lXiGaWjISZnER53ZJe6QO']|\n",
      "|['3BiJGZsyX9sJchTqcSA7Su', '5MpELOfAiq7aIBTij30phD', '6lXiGaWjISZnER53ZJe6QO']|\n",
      "|['5LiOoJbxVSAMkBS2fUm3X2']                                                    |\n",
      "|['3QXjI80udwDSEfxK5BjUXc']                                                    |\n",
      "|['14jtPCOoNZwquk5wd9DxrY']                                                    |\n",
      "|['5LiOoJbxVSAMkBS2fUm3X2']                                                    |\n",
      "|['18mX1gMCx67ZdPRtv644Wi']                                                    |\n",
      "|['4AxgXfD7ISvJSTObqm4aIE']                                                    |\n",
      "|['14jtPCOoNZwquk5wd9DxrY']                                                    |\n",
      "|['3BiJGZsyX9sJchTqcSA7Su']                                                    |\n",
      "|['4XVZpokXbUzg6QeomBANY9']                                                    |\n",
      "|['7vVR02JJYvsEAEPNHQMx0Q']                                                    |\n",
      "|['14jtPCOoNZwquk5wd9DxrY']                                                    |\n",
      "|['14jtPCOoNZwquk5wd9DxrY']                                                    |\n",
      "|['14jtPCOoNZwquk5wd9DxrY']                                                    |\n",
      "|['0DhFxctImIYNNSEHuLQi5U']                                                    |\n",
      "|['5LiOoJbxVSAMkBS2fUm3X2']                                                    |\n",
      "|['5LiOoJbxVSAMkBS2fUm3X2']                                                    |\n",
      "|['6NyLf1mINBZQcR8gWeE5kC']                                                    |\n",
      "|['5LiOoJbxVSAMkBS2fUm3X2']                                                    |\n",
      "|['4avV2NAdyMOjy4qqYfKNR7']                                                    |\n",
      "|['5LiOoJbxVSAMkBS2fUm3X2']                                                    |\n",
      "|['14jtPCOoNZwquk5wd9DxrY']                                                    |\n",
      "|['3BiJGZsyX9sJchTqcSA7Su']                                                    |\n",
      "|['5LiOoJbxVSAMkBS2fUm3X2']                                                    |\n",
      "|['14jtPCOoNZwquk5wd9DxrY']                                                    |\n",
      "|['45tIt06XoI0Iio4LBEVpls']                                                    |\n",
      "|['5LiOoJbxVSAMkBS2fUm3X2']                                                    |\n",
      "|['14jtPCOoNZwquk5wd9DxrY']                                                    |\n",
      "|['5LiOoJbxVSAMkBS2fUm3X2']                                                    |\n",
      "|['6NyLf1mINBZQcR8gWeE5kC']                                                    |\n",
      "|['14jtPCOoNZwquk5wd9DxrY']                                                    |\n",
      "|['6NyLf1mINBZQcR8gWeE5kC']                                                    |\n",
      "|['14jtPCOoNZwquk5wd9DxrY']                                                    |\n",
      "|['14jtPCOoNZwquk5wd9DxrY']                                                    |\n",
      "|['14jtPCOoNZwquk5wd9DxrY']                                                    |\n",
      "|['14jtPCOoNZwquk5wd9DxrY']                                                    |\n",
      "|['3BiJGZsyX9sJchTqcSA7Su']                                                    |\n",
      "|['14jtPCOoNZwquk5wd9DxrY']                                                    |\n",
      "|['14jtPCOoNZwquk5wd9DxrY']                                                    |\n",
      "|['14jtPCOoNZwquk5wd9DxrY']                                                    |\n",
      "|['5LiOoJbxVSAMkBS2fUm3X2']                                                    |\n",
      "|['5LiOoJbxVSAMkBS2fUm3X2']                                                    |\n",
      "|['4avV2NAdyMOjy4qqYfKNR7']                                                    |\n",
      "|['5LiOoJbxVSAMkBS2fUm3X2']                                                    |\n",
      "|['0Yly6PvJghpLD3Lj8Kvpcj']                                                    |\n",
      "|['14jtPCOoNZwquk5wd9DxrY']                                                    |\n",
      "|['14jtPCOoNZwquk5wd9DxrY']                                                    |\n",
      "|['3BiJGZsyX9sJchTqcSA7Su', '5MpELOfAiq7aIBTij30phD', '6lXiGaWjISZnER53ZJe6QO']|\n",
      "|['3BiJGZsyX9sJchTqcSA7Su']                                                    |\n",
      "|['14jtPCOoNZwquk5wd9DxrY']                                                    |\n",
      "|['14jtPCOoNZwquk5wd9DxrY']                                                    |\n",
      "|['14jtPCOoNZwquk5wd9DxrY']                                                    |\n",
      "|['3BiJGZsyX9sJchTqcSA7Su']                                                    |\n",
      "|['5LiOoJbxVSAMkBS2fUm3X2']                                                    |\n",
      "|['5LiOoJbxVSAMkBS2fUm3X2']                                                    |\n",
      "|['14jtPCOoNZwquk5wd9DxrY']                                                    |\n",
      "|['3BiJGZsyX9sJchTqcSA7Su']                                                    |\n",
      "|['6NyLf1mINBZQcR8gWeE5kC']                                                    |\n",
      "|['7DIlOK9L8d0IQ7Xk8aJxDW']                                                    |\n",
      "|['3BiJGZsyX9sJchTqcSA7Su', '3HqN7Sq7rmpOEI9UV5ERuz', '6lXiGaWjISZnER53ZJe6QO']|\n",
      "|['14jtPCOoNZwquk5wd9DxrY']                                                    |\n",
      "|['5LiOoJbxVSAMkBS2fUm3X2']                                                    |\n",
      "|['6NyLf1mINBZQcR8gWeE5kC']                                                    |\n",
      "+------------------------------------------------------------------------------+\n",
      "only showing top 100 rows\n",
      "\n"
     ]
    }
   ],
   "source": [
    "df_tracks = df_tracks.select(\"id_artists\").show(100,False)"
   ]
  },
  {
   "cell_type": "code",
   "execution_count": 58,
   "metadata": {},
   "outputs": [],
   "source": [
    "df_tracks = df_tracks.select(\"id\",f.translate(f.col(\"id_artists\"),\"[\\\\[]\\\\'']\", \"\").alias(\"id_artists\"),\"name\",\"popularity\",\"release_date\")"
   ]
  },
  {
   "cell_type": "code",
   "execution_count": 70,
   "metadata": {},
   "outputs": [
    {
     "name": "stdout",
     "output_type": "stream",
     "text": [
      "+--------------------+--------------------+----------+-----------+--------+-------------------+--------------------+------------+------------+------+---+--------+----+-----------+------------+----------------+--------+-------+-------+--------------+\n",
      "|                  id|                name|popularity|duration_ms|explicit|            artists|          id_artists|release_date|danceability|energy|key|loudness|mode|speechiness|acousticness|instrumentalness|liveness|valence|  tempo|time_signature|\n",
      "+--------------------+--------------------+----------+-----------+--------+-------------------+--------------------+------------+------------+------+---+--------+----+-----------+------------+----------------+--------+-------+-------+--------------+\n",
      "|35iwgR4jXetI318WE...|               Carve|         6|     126903|       0|            ['Uli']|['45tIt06XoI0Iio4...|  1922-02-22|       0.645| 0.445|  0| -13.338|   1|      0.451|       0.674|           0.744|   0.151|  0.127|104.851|             3|\n",
      "|021ht4sdgPcrDgSk7...|Capítulo 2.16 - B...|         0|      98200|       0|['Fernando Pessoa']|['14jtPCOoNZwquk5...|  1922-06-01|       0.695| 0.263|  0| -22.136|   1|      0.957|       0.797|             0.0|   0.148|  0.655|102.009|             1|\n",
      "|07A5yehtSnoedViJA...|Vivo para Querert...|         0|     181640|       0|['Ignacio Corsini']|['5LiOoJbxVSAMkBS...|  1922-03-21|       0.434| 0.177|  1|  -21.18|   1|     0.0512|       0.994|          0.0218|   0.212|  0.457|130.418|             5|\n",
      "|08FmqUhxtyLTn6pAh...|El Prisionero - R...|         0|     176907|       0|['Ignacio Corsini']|['5LiOoJbxVSAMkBS...|  1922-03-21|       0.321|0.0946|  7| -27.961|   1|     0.0504|       0.995|           0.918|   0.104|  0.397| 169.98|             3|\n",
      "|08y9GfoqCWfOGsKdw...| Lady of the Evening|         0|     163080|       0|    ['Dick Haymes']|['3BiJGZsyX9sJchT...|        1922|       0.402| 0.158|  3|   -16.9|   0|      0.039|       0.989|            0.13|   0.311|  0.196| 103.22|             4|\n",
      "|0BRXJHRNGQ3W4v9fr...|           Ave Maria|         0|     178933|       0|    ['Dick Haymes']|['3BiJGZsyX9sJchT...|        1922|       0.227| 0.261|  5| -12.343|   1|     0.0382|       0.994|           0.247|  0.0977| 0.0539|118.891|             4|\n",
      "|0Dd9ImXtAtGwsmsAD...|      La Butte Rouge|         0|     134467|       0|  ['Francis Marty']|['2nuMRGzeJ5jJEKl...|        1922|        0.51| 0.355|  4| -12.833|   1|      0.124|       0.965|             0.0|   0.155|  0.727| 85.754|             5|\n",
      "|0IA0Hju8CAgYfV1hw...|             La Java|         0|     161427|       0|    ['Mistinguett']|['4AxgXfD7ISvJSTO...|        1922|       0.563| 0.184|  4| -13.757|   1|     0.0512|       0.993|        1.55e-05|   0.325|  0.654|133.088|             3|\n",
      "|0IgI1UCz84pYeVetn...|  Old Fashioned Girl|         0|     310073|       0|    ['Greg Fieler']|['5nWlsH5RDgFuRAi...|        1922|       0.488| 0.475|  0| -16.222|   0|     0.0399|        0.62|         0.00645|   0.107|  0.544|139.952|             4|\n",
      "|0JV4iqw2lSKJaHBQZ...|Martín Fierro - R...|         0|     181173|       0|['Ignacio Corsini']|['5LiOoJbxVSAMkBS...|  1922-03-29|       0.548|0.0391|  6| -23.228|   1|      0.153|       0.996|           0.933|   0.148|  0.612| 75.595|             3|\n",
      "|0OYGe21oScKJfanLy...|Capítulo 2.8 - Ba...|         0|      99100|       0|['Fernando Pessoa']|['14jtPCOoNZwquk5...|  1922-06-01|       0.676| 0.235| 11| -22.447|   0|       0.96|       0.794|             0.0|    0.21|  0.724| 96.777|             3|\n",
      "|0PE42H6tslQuyMMiG...|Capítulo 2.25 - B...|         0|     132700|       0|['Fernando Pessoa']|['14jtPCOoNZwquk5...|  1922-06-01|        0.75| 0.229|  2| -22.077|   1|      0.955|       0.578|             0.0|   0.314|  0.531|102.629|             3|\n",
      "|0PH9AACae1f957JAa...|            Lazy Boi|         0|     157333|       0|            ['Uli']|['45tIt06XoI0Iio4...|  1922-02-22|       0.298|  0.46|  1| -18.645|   1|      0.453|       0.521|           0.856|   0.436|  0.402| 87.921|             4|\n",
      "|0QiT0Oo5QdLXdFw6R...|Tu Verras Montmartre|         1|     186800|       0|   ['Lucien Boyer']|['4mSouLpNSEY1d7O...|        1922|       0.703|  0.28|  0|  -15.39|   1|      0.174|       0.995|        6.84e-05|   0.163|  0.897|127.531|             4|\n",
      "|0TWsNj5iSvbMTtbED...|Elle Prend L'boul...|         0|     172027|       0|    ['Félix Mayol']|['7DIlOK9L8d0IQ7X...|        1922|       0.709| 0.289|  2| -14.978|   1|       0.18|       0.967|             0.0|   0.119|   0.84|107.515|             4|\n",
      "|0cC9CYjLRIzwchQ42...|Capítulo 1.23 - B...|         0|      96600|       0|['Fernando Pessoa']|['14jtPCOoNZwquk5...|  1922-06-01|       0.687| 0.198|  4| -24.264|   0|      0.962|       0.754|             0.0|   0.197|  0.478| 78.453|             1|\n",
      "|0eb1PfHxT6HnXvvdU...|Capítulo 1.18 - B...|         0|     103200|       0|['Fernando Pessoa']|['14jtPCOoNZwquk5...|  1922-06-01|         0.8| 0.171|  8| -24.384|   1|      0.953|        0.67|             0.0|   0.123|  0.693| 59.613|             3|\n",
      "|0grXU6GKVNCVMJbse...|Capítulo 1.10 - B...|         0|      95800|       0|['Fernando Pessoa']|['14jtPCOoNZwquk5...|  1922-06-01|         0.7| 0.208|  2| -23.874|   1|      0.956|       0.691|             0.0|   0.441|  0.613| 85.739|             1|\n",
      "|0kCB1bDVBC8gWCFcn...|  Ca C'est Une Chose|         0|     188000|       0| ['Victor Boucher']|['7vVR02JJYvsEAEP...|        1922|       0.352| 0.334|  5| -13.038|   1|     0.0594|       0.996|         0.00746|    0.36|  0.414| 76.403|             4|\n",
      "|0l3BQsVJ7F76wlN5Q...|El Vendaval - Rem...|         0|     153533|       0|['Ignacio Corsini']|['5LiOoJbxVSAMkBS...|  1922-03-21|        0.37| 0.372|  2| -17.138|   1|     0.0865|       0.985|        0.000681|   0.929|  0.753|159.669|             4|\n",
      "+--------------------+--------------------+----------+-----------+--------+-------------------+--------------------+------------+------------+------+---+--------+----+-----------+------------+----------------+--------+-------+-------+--------------+\n",
      "only showing top 20 rows\n",
      "\n"
     ]
    }
   ],
   "source": [
    "df_tracks.show()"
   ]
  },
  {
   "cell_type": "code",
   "execution_count": 55,
   "metadata": {},
   "outputs": [
    {
     "name": "stdout",
     "output_type": "stream",
     "text": [
      "root\n",
      " |-- id: string (nullable = true)\n",
      " |-- id_artists: string (nullable = true)\n",
      " |-- name: string (nullable = true)\n",
      " |-- popularity: string (nullable = true)\n",
      " |-- release_date: string (nullable = true)\n",
      "\n"
     ]
    }
   ],
   "source": [
    "df_tracks.printSchema()"
   ]
  },
  {
   "cell_type": "code",
   "execution_count": 61,
   "metadata": {},
   "outputs": [
    {
     "name": "stderr",
     "output_type": "stream",
     "text": [
      "                                                                                \r"
     ]
    }
   ],
   "source": [
    "df_tracks.write.mode('overwrite').option(\"header\", \"true\").csv('/home/febridev/tracks')"
   ]
  },
  {
   "cell_type": "code",
   "execution_count": 65,
   "metadata": {},
   "outputs": [],
   "source": [
    "schema = types.StructType([\n",
    "\ttypes.StructField('id',types.StringType(),True),\n",
    "    types.StructField('id_artists',types.StringType(),True),\n",
    "\ttypes.StructField('name',types.StringType(),True),\n",
    "\ttypes.StructField('popularity',types.IntegerType(),True),\n",
    "\ttypes.StructField('release_date',types.TimestampType(),True)\n",
    "])"
   ]
  },
  {
   "cell_type": "code",
   "execution_count": 66,
   "metadata": {},
   "outputs": [
    {
     "name": "stdout",
     "output_type": "stream",
     "text": [
      "+--------------------+--------------------+--------------------+----------+-------------------+\n",
      "|                  id|          id_artists|                name|popularity|       release_date|\n",
      "+--------------------+--------------------+--------------------+----------+-------------------+\n",
      "|35iwgR4jXetI318WE...|45tIt06XoI0Iio4LB...|               Carve|         6|1922-02-22 00:00:00|\n",
      "|021ht4sdgPcrDgSk7...|14jtPCOoNZwquk5wd...|Capítulo 2.16 - B...|         0|1922-06-01 00:00:00|\n",
      "|07A5yehtSnoedViJA...|5LiOoJbxVSAMkBS2f...|Vivo para Querert...|         0|1922-03-21 00:00:00|\n",
      "|08FmqUhxtyLTn6pAh...|5LiOoJbxVSAMkBS2f...|El Prisionero - R...|         0|1922-03-21 00:00:00|\n",
      "|08y9GfoqCWfOGsKdw...|3BiJGZsyX9sJchTqc...| Lady of the Evening|         0|1922-01-01 00:00:00|\n",
      "|0BRXJHRNGQ3W4v9fr...|3BiJGZsyX9sJchTqc...|           Ave Maria|         0|1922-01-01 00:00:00|\n",
      "|0Dd9ImXtAtGwsmsAD...|2nuMRGzeJ5jJEKlfS...|      La Butte Rouge|         0|1922-01-01 00:00:00|\n",
      "|0IA0Hju8CAgYfV1hw...|4AxgXfD7ISvJSTObq...|             La Java|         0|1922-01-01 00:00:00|\n",
      "|0IgI1UCz84pYeVetn...|5nWlsH5RDgFuRAiDe...|  Old Fashioned Girl|         0|1922-01-01 00:00:00|\n",
      "|0JV4iqw2lSKJaHBQZ...|5LiOoJbxVSAMkBS2f...|Martín Fierro - R...|         0|1922-03-29 00:00:00|\n",
      "|0OYGe21oScKJfanLy...|14jtPCOoNZwquk5wd...|Capítulo 2.8 - Ba...|         0|1922-06-01 00:00:00|\n",
      "|0PE42H6tslQuyMMiG...|14jtPCOoNZwquk5wd...|Capítulo 2.25 - B...|         0|1922-06-01 00:00:00|\n",
      "|0PH9AACae1f957JAa...|45tIt06XoI0Iio4LB...|            Lazy Boi|         0|1922-02-22 00:00:00|\n",
      "|0QiT0Oo5QdLXdFw6R...|4mSouLpNSEY1d7OdI...|Tu Verras Montmartre|         1|1922-01-01 00:00:00|\n",
      "|0TWsNj5iSvbMTtbED...|7DIlOK9L8d0IQ7Xk8...|Elle Prend L'boul...|         0|1922-01-01 00:00:00|\n",
      "|0cC9CYjLRIzwchQ42...|14jtPCOoNZwquk5wd...|Capítulo 1.23 - B...|         0|1922-06-01 00:00:00|\n",
      "|0eb1PfHxT6HnXvvdU...|14jtPCOoNZwquk5wd...|Capítulo 1.18 - B...|         0|1922-06-01 00:00:00|\n",
      "|0grXU6GKVNCVMJbse...|14jtPCOoNZwquk5wd...|Capítulo 1.10 - B...|         0|1922-06-01 00:00:00|\n",
      "|0kCB1bDVBC8gWCFcn...|7vVR02JJYvsEAEPNH...|  Ca C'est Une Chose|         0|1922-01-01 00:00:00|\n",
      "|0l3BQsVJ7F76wlN5Q...|5LiOoJbxVSAMkBS2f...|El Vendaval - Rem...|         0|1922-03-21 00:00:00|\n",
      "+--------------------+--------------------+--------------------+----------+-------------------+\n",
      "only showing top 20 rows\n",
      "\n"
     ]
    }
   ],
   "source": [
    "\n",
    "df_tracks = spark.read.option(\"header\",True).schema(schema).csv('/home/febridev/tracks')\n",
    "df_tracks.show()"
   ]
  }
 ],
 "metadata": {
  "kernelspec": {
   "display_name": "Python 3 (ipykernel)",
   "language": "python",
   "name": "python3"
  },
  "language_info": {
   "codemirror_mode": {
    "name": "ipython",
    "version": 3
   },
   "file_extension": ".py",
   "mimetype": "text/x-python",
   "name": "python",
   "nbconvert_exporter": "python",
   "pygments_lexer": "ipython3",
   "version": "3.8.10"
  }
 },
 "nbformat": 4,
 "nbformat_minor": 4
}
