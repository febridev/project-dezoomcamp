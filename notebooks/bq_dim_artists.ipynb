{
 "cells": [
  {
   "cell_type": "code",
   "execution_count": 15,
   "metadata": {},
   "outputs": [],
   "source": [
    "import pyspark\n",
    "from pyspark.sql import SparkSession\n",
    "\n",
    "spark = SparkSession.builder \\\n",
    "  .master(\"local[*]\") \\\n",
    "  .appName('1.2. BigQuery Storage & Spark SQL - Python')\\\n",
    "  .config('spark.jars', 'gs://spark-lib/bigquery/spark-bigquery-latest.jar') \\\n",
    "  .getOrCreate()"
   ]
  },
  {
   "cell_type": "code",
   "execution_count": 2,
   "metadata": {},
   "outputs": [],
   "source": [
    "table = \"applied-mystery-341809.dbt_week5.dim_zones\"\n",
    "df_wiki_pageviews = spark.read \\\n",
    "  .format(\"bigquery\") \\\n",
    "  .option(\"table\", table) \\\n",
    "  .load()"
   ]
  },
  {
   "cell_type": "code",
   "execution_count": 3,
   "metadata": {},
   "outputs": [
    {
     "name": "stdout",
     "output_type": "stream",
     "text": [
      "+----------+-------+--------------------+------------+\n",
      "|locationid|borough|                zone|service_zone|\n",
      "+----------+-------+--------------------+------------+\n",
      "|         1|   NEWR|      Newark Airport|         EWR|\n",
      "|       265|Unknown|                  NA|         N/A|\n",
      "|       264|Unknown|                  NV|         N/A|\n",
      "|       138| Queens|   LaGuardia Airport|    Airports|\n",
      "|       132| Queens|         JFK Airport|    Airports|\n",
      "|       168|  Bronx|Mott Haven/Port M...|  Green Zone|\n",
      "|       208|  Bronx|Schuylerville/Edg...|  Green Zone|\n",
      "|         3|  Bronx|Allerton/Pelham G...|  Green Zone|\n",
      "|        58|  Bronx|        Country Club|  Green Zone|\n",
      "|       212|  Bronx|  Soundview/Bruckner|  Green Zone|\n",
      "|        59|  Bronx|        Crotona Park|  Green Zone|\n",
      "|       220|  Bronx|Spuyten Duyvil/Ki...|  Green Zone|\n",
      "|        81|  Bronx|         Eastchester|  Green Zone|\n",
      "|        18|  Bronx|        Bedford Park|  Green Zone|\n",
      "|        60|  Bronx|   Crotona Park East|  Green Zone|\n",
      "|        78|  Bronx|        East Tremont|  Green Zone|\n",
      "|       250|  Bronx|Westchester Villa...|  Green Zone|\n",
      "|        47|  Bronx|  Claremont/Bathgate|  Green Zone|\n",
      "|       182|  Bronx|         Parkchester|  Green Zone|\n",
      "|        51|  Bronx|          Co-Op City|  Green Zone|\n",
      "+----------+-------+--------------------+------------+\n",
      "only showing top 20 rows\n",
      "\n"
     ]
    }
   ],
   "source": [
    "df_wiki_pageviews.show()"
   ]
  },
  {
   "cell_type": "code",
   "execution_count": 11,
   "metadata": {},
   "outputs": [],
   "source": [
    "df_artists = spark.read \\\n",
    ".option(\"header\",True) \\\n",
    ".parquet(\"gs://dtc_data_lake_applied-mystery-341809/transform/artists\")"
   ]
  },
  {
   "cell_type": "code",
   "execution_count": 13,
   "metadata": {},
   "outputs": [
    {
     "name": "stdout",
     "output_type": "stream",
     "text": [
      "+--------------------+---------+--------------------+\n",
      "|                  id|followers|                name|\n",
      "+--------------------+---------+--------------------+\n",
      "|59qz10hjQPAs0spos...|     18.0|    Boys of the Band|\n",
      "|0LcrfJ63GdIW4n2UZ...|      0.0|David Mackersie e...|\n",
      "|18lEjlk2JBPdyObT3...|    785.0|Ministerio Doble ...|\n",
      "|1UhZGGHbPPHAHt2ce...|    214.0|  Andre Tschaskowski|\n",
      "|5D95DPWHohrzVbdub...|  10557.0|       Advent Sorrow|\n",
      "|11CbG4ImkEw99aUng...|   3614.0|                  MX|\n",
      "|61MH29rMIyOfuK7KX...|  27878.0| The Vintage Caravan|\n",
      "|5lInFfKjIAVzBIOg4...|    445.0|     Charles Grigsby|\n",
      "|3kJakFcxRwLW9f47x...|      4.0|        Willy Rustad|\n",
      "|508weSx4HBumrGggF...|   1110.0|              Hunxho|\n",
      "+--------------------+---------+--------------------+\n",
      "only showing top 10 rows\n",
      "\n"
     ]
    }
   ],
   "source": [
    "df_artists.show(10)"
   ]
  },
  {
   "cell_type": "code",
   "execution_count": 16,
   "metadata": {},
   "outputs": [],
   "source": [
    "# Update to your GCS bucket\n",
    "gcs_bucket = 'dtc_data_lake_applied-mystery-341809'\n",
    "\n",
    "# Update to your BigQuery dataset name you created\n",
    "bq_dataset = 'bq_project_dezoomcamp'\n",
    "\n",
    "# Enter BigQuery table name you want to create or overwite. \n",
    "# If the table does not exist it will be created when you run the write function\n",
    "bq_table = 'dim_artists'\n",
    "\n",
    "df_artists.write \\\n",
    "  .format(\"bigquery\") \\\n",
    "  .option(\"table\",\"{}.{}\".format(bq_dataset, bq_table)) \\\n",
    "  .option(\"temporaryGcsBucket\", gcs_bucket) \\\n",
    "  .mode('overwrite') \\\n",
    "  .save()"
   ]
  }
 ],
 "metadata": {
  "kernelspec": {
   "display_name": "Python 3 (ipykernel)",
   "language": "python",
   "name": "python3"
  },
  "language_info": {
   "codemirror_mode": {
    "name": "ipython",
    "version": 3
   },
   "file_extension": ".py",
   "mimetype": "text/x-python",
   "name": "python",
   "nbconvert_exporter": "python",
   "pygments_lexer": "ipython3",
   "version": "3.8.10"
  }
 },
 "nbformat": 4,
 "nbformat_minor": 4
}
