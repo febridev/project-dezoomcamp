{
 "cells": [
  {
   "cell_type": "code",
   "execution_count": 42,
   "metadata": {},
   "outputs": [],
   "source": [
    "import pyspark\n",
    "from pyspark.sql import types\n",
    "from pyspark.sql import SparkSession\n"
   ]
  },
  {
   "cell_type": "code",
   "execution_count": 3,
   "metadata": {},
   "outputs": [
    {
     "data": {
      "text/plain": [
       "'/home/febridev/spark/spark-3.0.3-bin-hadoop3.2/python/pyspark/__init__.py'"
      ]
     },
     "execution_count": 3,
     "metadata": {},
     "output_type": "execute_result"
    }
   ],
   "source": [
    "pyspark.__file__"
   ]
  },
  {
   "cell_type": "code",
   "execution_count": 43,
   "metadata": {},
   "outputs": [],
   "source": [
    "spark = SparkSession.builder \\\n",
    "    .master(\"local[*]\") \\\n",
    "    .appName('test') \\\n",
    "    .getOrCreate()"
   ]
  },
  {
   "cell_type": "code",
   "execution_count": 9,
   "metadata": {},
   "outputs": [],
   "source": [
    "df_artists = spark.read.option(\"header\",True).parquet(\"gs://dtc_data_lake_applied-mystery-341809/raw/artists.parquet\")"
   ]
  },
  {
   "cell_type": "code",
   "execution_count": 10,
   "metadata": {},
   "outputs": [
    {
     "name": "stdout",
     "output_type": "stream",
     "text": [
      "root\n",
      " |-- id: string (nullable = true)\n",
      " |-- followers: double (nullable = true)\n",
      " |-- genres: string (nullable = true)\n",
      " |-- name: string (nullable = true)\n",
      " |-- popularity: long (nullable = true)\n",
      "\n"
     ]
    }
   ],
   "source": [
    "df_artists.printSchema()"
   ]
  },
  {
   "cell_type": "code",
   "execution_count": 14,
   "metadata": {},
   "outputs": [
    {
     "data": {
      "text/plain": [
       "StructType(List(StructField(id,StringType,true),StructField(followers,DoubleType,true),StructField(genres,StringType,true),StructField(name,StringType,true),StructField(popularity,LongType,true)))"
      ]
     },
     "execution_count": 14,
     "metadata": {},
     "output_type": "execute_result"
    }
   ],
   "source": [
    "df_artists.schema"
   ]
  },
  {
   "cell_type": "code",
   "execution_count": 18,
   "metadata": {},
   "outputs": [],
   "source": [
    "schema_artists = types.StructType([\n",
    "\ttypes.StructField('id',types.StringType(),True),\n",
    "\ttypes.StructField('followers',types.DoubleType(),True),\n",
    "\ttypes.StructField('name',types.StringType(),True)\n",
    "])"
   ]
  },
  {
   "cell_type": "code",
   "execution_count": 57,
   "metadata": {},
   "outputs": [],
   "source": [
    "df_artists = spark.read \\\n",
    ".option(\"header\",True) \\\n",
    ".schema(schema_artists) \\\n",
    ".parquet(\"gs://dtc_data_lake_applied-mystery-341809/raw/artists.parquet\")"
   ]
  },
  {
   "cell_type": "code",
   "execution_count": 58,
   "metadata": {},
   "outputs": [],
   "source": [
    "df_artists = df_artists.repartition(8)"
   ]
  },
  {
   "cell_type": "code",
   "execution_count": 59,
   "metadata": {},
   "outputs": [],
   "source": [
    "# create new file parquet for artists\n",
    "df_artists.write.parquet(\"gs://dtc_data_lake_applied-mystery-341809/transform/artists\",mode='overwrite')"
   ]
  },
  {
   "cell_type": "code",
   "execution_count": 60,
   "metadata": {},
   "outputs": [
    {
     "name": "stdout",
     "output_type": "stream",
     "text": [
      "+--------------------+---------+--------------------+\n",
      "|                  id|followers|                name|\n",
      "+--------------------+---------+--------------------+\n",
      "|59qz10hjQPAs0spos...|     18.0|    Boys of the Band|\n",
      "|0LcrfJ63GdIW4n2UZ...|      0.0|David Mackersie e...|\n",
      "|18lEjlk2JBPdyObT3...|    785.0|Ministerio Doble ...|\n",
      "|1UhZGGHbPPHAHt2ce...|    214.0|  Andre Tschaskowski|\n",
      "|5D95DPWHohrzVbdub...|  10557.0|       Advent Sorrow|\n",
      "|11CbG4ImkEw99aUng...|   3614.0|                  MX|\n",
      "|61MH29rMIyOfuK7KX...|  27878.0| The Vintage Caravan|\n",
      "|5lInFfKjIAVzBIOg4...|    445.0|     Charles Grigsby|\n",
      "|3kJakFcxRwLW9f47x...|      4.0|        Willy Rustad|\n",
      "|508weSx4HBumrGggF...|   1110.0|              Hunxho|\n",
      "+--------------------+---------+--------------------+\n",
      "only showing top 10 rows\n",
      "\n"
     ]
    }
   ],
   "source": [
    "df_artists = spark.read \\\n",
    ".option(\"header\",True) \\\n",
    ".parquet(\"gs://dtc_data_lake_applied-mystery-341809/transform/artists\")\n",
    "\n",
    "df_artists.show(10)"
   ]
  },
  {
   "cell_type": "code",
   "execution_count": 61,
   "metadata": {},
   "outputs": [],
   "source": [
    "df_tracks = spark.read.option(\"header\",True).parquet(\"gs://dtc_data_lake_applied-mystery-341809/raw/tracks.parquet\")"
   ]
  },
  {
   "cell_type": "code",
   "execution_count": 46,
   "metadata": {},
   "outputs": [
    {
     "name": "stdout",
     "output_type": "stream",
     "text": [
      "+--------------------+--------------------+----------+-----------+--------+-------------------+--------------------+------------+------------+------+---+--------+----+-----------+------------+----------------+--------+-------+-------+--------------+\n",
      "|                  id|                name|popularity|duration_ms|explicit|            artists|          id_artists|release_date|danceability|energy|key|loudness|mode|speechiness|acousticness|instrumentalness|liveness|valence|  tempo|time_signature|\n",
      "+--------------------+--------------------+----------+-----------+--------+-------------------+--------------------+------------+------------+------+---+--------+----+-----------+------------+----------------+--------+-------+-------+--------------+\n",
      "|35iwgR4jXetI318WE...|               Carve|         6|     126903|       0|            ['Uli']|['45tIt06XoI0Iio4...|  1922-02-22|       0.645| 0.445|  0| -13.338|   1|      0.451|       0.674|           0.744|   0.151|  0.127|104.851|             3|\n",
      "|021ht4sdgPcrDgSk7...|Capítulo 2.16 - B...|         0|      98200|       0|['Fernando Pessoa']|['14jtPCOoNZwquk5...|  1922-06-01|       0.695| 0.263|  0| -22.136|   1|      0.957|       0.797|             0.0|   0.148|  0.655|102.009|             1|\n",
      "|07A5yehtSnoedViJA...|Vivo para Querert...|         0|     181640|       0|['Ignacio Corsini']|['5LiOoJbxVSAMkBS...|  1922-03-21|       0.434| 0.177|  1|  -21.18|   1|     0.0512|       0.994|          0.0218|   0.212|  0.457|130.418|             5|\n",
      "|08FmqUhxtyLTn6pAh...|El Prisionero - R...|         0|     176907|       0|['Ignacio Corsini']|['5LiOoJbxVSAMkBS...|  1922-03-21|       0.321|0.0946|  7| -27.961|   1|     0.0504|       0.995|           0.918|   0.104|  0.397| 169.98|             3|\n",
      "|08y9GfoqCWfOGsKdw...| Lady of the Evening|         0|     163080|       0|    ['Dick Haymes']|['3BiJGZsyX9sJchT...|        1922|       0.402| 0.158|  3|   -16.9|   0|      0.039|       0.989|            0.13|   0.311|  0.196| 103.22|             4|\n",
      "|0BRXJHRNGQ3W4v9fr...|           Ave Maria|         0|     178933|       0|    ['Dick Haymes']|['3BiJGZsyX9sJchT...|        1922|       0.227| 0.261|  5| -12.343|   1|     0.0382|       0.994|           0.247|  0.0977| 0.0539|118.891|             4|\n",
      "|0Dd9ImXtAtGwsmsAD...|      La Butte Rouge|         0|     134467|       0|  ['Francis Marty']|['2nuMRGzeJ5jJEKl...|        1922|        0.51| 0.355|  4| -12.833|   1|      0.124|       0.965|             0.0|   0.155|  0.727| 85.754|             5|\n",
      "|0IA0Hju8CAgYfV1hw...|             La Java|         0|     161427|       0|    ['Mistinguett']|['4AxgXfD7ISvJSTO...|        1922|       0.563| 0.184|  4| -13.757|   1|     0.0512|       0.993|         1.55E-5|   0.325|  0.654|133.088|             3|\n",
      "|0IgI1UCz84pYeVetn...|  Old Fashioned Girl|         0|     310073|       0|    ['Greg Fieler']|['5nWlsH5RDgFuRAi...|        1922|       0.488| 0.475|  0| -16.222|   0|     0.0399|        0.62|         0.00645|   0.107|  0.544|139.952|             4|\n",
      "|0JV4iqw2lSKJaHBQZ...|Martín Fierro - R...|         0|     181173|       0|['Ignacio Corsini']|['5LiOoJbxVSAMkBS...|  1922-03-29|       0.548|0.0391|  6| -23.228|   1|      0.153|       0.996|           0.933|   0.148|  0.612| 75.595|             3|\n",
      "+--------------------+--------------------+----------+-----------+--------+-------------------+--------------------+------------+------------+------+---+--------+----+-----------+------------+----------------+--------+-------+-------+--------------+\n",
      "only showing top 10 rows\n",
      "\n"
     ]
    }
   ],
   "source": [
    "df_tracks.show(10)"
   ]
  },
  {
   "cell_type": "code",
   "execution_count": 47,
   "metadata": {},
   "outputs": [
    {
     "name": "stdout",
     "output_type": "stream",
     "text": [
      "root\n",
      " |-- id: string (nullable = true)\n",
      " |-- name: string (nullable = true)\n",
      " |-- popularity: long (nullable = true)\n",
      " |-- duration_ms: long (nullable = true)\n",
      " |-- explicit: long (nullable = true)\n",
      " |-- artists: string (nullable = true)\n",
      " |-- id_artists: string (nullable = true)\n",
      " |-- release_date: string (nullable = true)\n",
      " |-- danceability: double (nullable = true)\n",
      " |-- energy: double (nullable = true)\n",
      " |-- key: long (nullable = true)\n",
      " |-- loudness: double (nullable = true)\n",
      " |-- mode: long (nullable = true)\n",
      " |-- speechiness: double (nullable = true)\n",
      " |-- acousticness: double (nullable = true)\n",
      " |-- instrumentalness: double (nullable = true)\n",
      " |-- liveness: double (nullable = true)\n",
      " |-- valence: double (nullable = true)\n",
      " |-- tempo: double (nullable = true)\n",
      " |-- time_signature: long (nullable = true)\n",
      "\n"
     ]
    }
   ],
   "source": [
    "df_tracks.printSchema()"
   ]
  },
  {
   "cell_type": "code",
   "execution_count": 49,
   "metadata": {},
   "outputs": [
    {
     "data": {
      "text/plain": [
       "StructType(List(StructField(id,StringType,true),StructField(name,StringType,true),StructField(popularity,LongType,true),StructField(duration_ms,LongType,true),StructField(explicit,LongType,true),StructField(artists,StringType,true),StructField(id_artists,StringType,true),StructField(release_date,StringType,true),StructField(danceability,DoubleType,true),StructField(energy,DoubleType,true),StructField(key,LongType,true),StructField(loudness,DoubleType,true),StructField(mode,LongType,true),StructField(speechiness,DoubleType,true),StructField(acousticness,DoubleType,true),StructField(instrumentalness,DoubleType,true),StructField(liveness,DoubleType,true),StructField(valence,DoubleType,true),StructField(tempo,DoubleType,true),StructField(time_signature,LongType,true)))"
      ]
     },
     "execution_count": 49,
     "metadata": {},
     "output_type": "execute_result"
    }
   ],
   "source": [
    "df_tracks.schema"
   ]
  },
  {
   "cell_type": "code",
   "execution_count": 62,
   "metadata": {},
   "outputs": [],
   "source": [
    "schema_tracks = types.StructType([\n",
    "    types.StructField('id',types.StringType(),True),\n",
    "    types.StructField('name',types.StringType(),True),\n",
    "    types.StructField('popularity',types.LongType(),True),\n",
    "    types.StructField('duration_ms',types.LongType(),True),\n",
    "    types.StructField('explicit',types.LongType(),True),\n",
    "    types.StructField('artists',types.StringType(),True),\n",
    "    types.StructField('id_artists',types.StringType(),True),\n",
    "    types.StructField('release_date',types.StringType(),True),\n",
    "    types.StructField('danceability',types.DoubleType(),True),\n",
    "    types.StructField('energy',types.DoubleType(),True),\n",
    "    types.StructField('key',types.LongType(),True),\n",
    "    types.StructField('loudness',types.DoubleType(),True),\n",
    "    types.StructField('mode',types.LongType(),True),\n",
    "    types.StructField('speechiness',types.DoubleType(),True),\n",
    "    types.StructField('acousticness',types.DoubleType(),True),\n",
    "    types.StructField('instrumentalness',types.DoubleType(),True),\n",
    "    types.StructField('liveness',types.DoubleType(),True),\n",
    "    types.StructField('valence',types.DoubleType(),True),\n",
    "    types.StructField('tempo',types.DoubleType(),True),\n",
    "    types.StructField('time_signature',types.TimestampType(),True)\n",
    "])"
   ]
  },
  {
   "cell_type": "code",
   "execution_count": 64,
   "metadata": {},
   "outputs": [],
   "source": [
    "df_tracks = spark.read \\\n",
    ".option(\"header\",True) \\\n",
    ".schema(schema_tracks) \\\n",
    ".parquet(\"gs://dtc_data_lake_applied-mystery-341809/raw/tracks.parquet\")"
   ]
  },
  {
   "cell_type": "code",
   "execution_count": 65,
   "metadata": {},
   "outputs": [],
   "source": [
    "df_tracks = df_tracks.repartition(8)"
   ]
  },
  {
   "cell_type": "code",
   "execution_count": 66,
   "metadata": {},
   "outputs": [],
   "source": [
    "# create new file parquet for artists\n",
    "df_tracks.write.parquet(\"gs://dtc_data_lake_applied-mystery-341809/transform//tracks\",mode='overwrite')"
   ]
  }
 ],
 "metadata": {
  "kernelspec": {
   "display_name": "Python 3",
   "language": "python",
   "name": "python3"
  },
  "language_info": {
   "codemirror_mode": {
    "name": "ipython",
    "version": 3
   },
   "file_extension": ".py",
   "mimetype": "text/x-python",
   "name": "python",
   "nbconvert_exporter": "python",
   "pygments_lexer": "ipython3",
   "version": "3.8.10"
  }
 },
 "nbformat": 4,
 "nbformat_minor": 4
}
